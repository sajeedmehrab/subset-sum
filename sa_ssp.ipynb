{
  "nbformat": 4,
  "nbformat_minor": 0,
  "metadata": {
    "colab": {
      "name": "sa_ssp.ipynb",
      "provenance": []
    },
    "kernelspec": {
      "name": "python3",
      "display_name": "Python 3"
    }
  },
  "cells": [
    {
      "cell_type": "code",
      "metadata": {
        "id": "j5gz9ArgDEAt"
      },
      "source": [
        "import random\n",
        "def random_neighbor_selection(S, S_prime):\n",
        "  #Takes sorted S input; sort before call\n",
        "  n = len(S) \n",
        "  T = S_prime.copy()\n",
        "  idxs = random.sample(range(0, n), 2)\n",
        "  idx1 = idxs[0]\n",
        "  idx2 = idxs[1]\n",
        "  #print(idx1, idx2)\n",
        "  elem1 = S[idx1]\n",
        "  if elem1 in T:\n",
        "    T.remove(elem1)\n",
        "  else:\n",
        "    T.add(elem1)\n",
        "  \n",
        "  if random.uniform(0, 1) > 0.5:\n",
        "    elem2 = S[idx2]\n",
        "    if elem2 in T:\n",
        "      T.remove(elem2)\n",
        "    else:\n",
        "      T.add(elem2)\n",
        "\n",
        "  if len(T) == 0:\n",
        "    T = S_prime.copy()\n",
        "\n",
        "  return T"
      ],
      "execution_count": null,
      "outputs": []
    },
    {
      "cell_type": "code",
      "metadata": {
        "id": "zb4nOi_FNBba"
      },
      "source": [
        "def initial_random_subset(S):\n",
        "  current_subset = random.sample(S, 2)\n",
        "  return set(current_subset)"
      ],
      "execution_count": null,
      "outputs": []
    },
    {
      "cell_type": "code",
      "metadata": {
        "id": "AEK7yugTRXI-"
      },
      "source": [
        "def residue(S_prime, W):\n",
        "  res = None\n",
        "  sum_S_prime = sum(S_prime)\n",
        "  if sum_S_prime > W:\n",
        "    res = sum_S_prime\n",
        "  else:\n",
        "    res = W - sum_S_prime\n",
        "    assert (res >= 0)\n",
        "  return res"
      ],
      "execution_count": null,
      "outputs": []
    },
    {
      "cell_type": "code",
      "metadata": {
        "id": "DJeFPuv9WEN5"
      },
      "source": [
        "import math\n",
        "def consider_bad_neighbor(i, current, neighbor, temp_factor=0.8):\n",
        "  #This formula is for sets of size around 100. \n",
        "  X = (neighbor - current)/(10000000000 * (temp_factor**(i/300)))\n",
        "  P = math.exp(-X)\n",
        "  if random.uniform(0, 1) < P:\n",
        "    return True\n",
        "  else:\n",
        "    return False"
      ],
      "execution_count": null,
      "outputs": []
    },
    {
      "cell_type": "code",
      "metadata": {
        "id": "61z8Gf7dP16e"
      },
      "source": [
        "def simulated_annealing_ssp(S, W, r=10000, temp_factor=0.8):\n",
        "  current_subset = initial_random_subset(S)\n",
        "  current_residue = residue(current_subset, W)\n",
        "  min_residue = 999999\n",
        "  for i in range(r):\n",
        "    iter = i + 1\n",
        "    random_neighbor = random_neighbor_selection(sorted(S), current_subset)\n",
        "    neighbor_residue = residue(random_neighbor, W)\n",
        "    if neighbor_residue < current_residue:\n",
        "      current_subset = random_neighbor\n",
        "      current_residue = neighbor_residue\n",
        "    else:\n",
        "      if consider_bad_neighbor(iter, current_residue, neighbor_residue, temp_factor):\n",
        "        current_subset = random_neighbor\n",
        "        current_residue = neighbor_residue\n",
        "    if current_residue < min_residue:\n",
        "      min_residue = current_residue\n",
        "    if current_residue == 0:\n",
        "      print(\"Target found!\")\n",
        "      break\n",
        "  return W - min_residue"
      ],
      "execution_count": null,
      "outputs": []
    },
    {
      "cell_type": "code",
      "metadata": {
        "id": "VWW4wMWIkF-K"
      },
      "source": [
        "def print_(msg, out_path):\n",
        "  print(msg)\n",
        "  with open(out_path, \"a\") as f:\n",
        "    f.write(msg + \"\\n\")"
      ],
      "execution_count": null,
      "outputs": []
    },
    {
      "cell_type": "code",
      "metadata": {
        "colab": {
          "base_uri": "https://localhost:8080/"
        },
        "id": "Uf9kK_rac_A6",
        "outputId": "159d1b6b-702a-4aa6-f373-64f829f6f91c"
      },
      "source": [
        "import numpy as np\n",
        "import time\n",
        "import os\n",
        "#id = 1000\n",
        "id = input(\"Input 10 or 100 or 1000: \")\n",
        "input_file = \"./test_\" + str(id) + \".txt\"\n",
        "soln_file = \"./test_\" + str(id) + \"_soln.txt\"\n",
        "out_path = \"./output_\" + str(id) + \".txt\"\n",
        "\n",
        "if os.path.exists(out_path):\n",
        "  os.remove(out_path)\n",
        "\n",
        "with open(input_file, \"r\") as f:\n",
        "  lines = f.readlines()\n",
        "inputs = []\n",
        "for line in lines:\n",
        "  tmp = line.strip()\n",
        "  if len(tmp)>0:\n",
        "    tmp = int(tmp)\n",
        "    inputs.append(tmp)\n",
        "\n",
        "read_upto = 0\n",
        "T = inputs[read_upto]\n",
        "read_upto += 1\n",
        "\n",
        "sa_soln = []\n",
        "times = []\n",
        "for t in range(T):\n",
        "  N = inputs[read_upto]\n",
        "  read_upto += 1\n",
        "  weights = []\n",
        "  for i in range(N):\n",
        "    weights.append(inputs[read_upto])\n",
        "    read_upto += 1\n",
        "  weights = np.array(weights)\n",
        "  target = inputs[read_upto]\n",
        "  read_upto += 1\n",
        "\n",
        "  start = time.time()\n",
        "  val = simulated_annealing_ssp(set(weights), target, 100000)\n",
        "  end = time.time()\n",
        "  sa_soln.append(val)\n",
        "  times.append(end-start)\n",
        "\n",
        "sa_soln = np.array(sa_soln)\n",
        "\n",
        "with open(soln_file, \"r\") as f:\n",
        "  lines = f.readlines()\n",
        "opt_soln = [int(line.strip()) for line in lines]\n",
        "opt_soln = np.array(opt_soln)\n",
        "\n",
        "exact_cnt = 0\n",
        "for g, o, t in zip(sa_soln, opt_soln, times):\n",
        "  #print(int(g), o)\n",
        "  msg = str(g) +\" \" + str(o) + \" \" + str(t) + \"seconds\"\n",
        "  print_(msg, out_path) \n",
        "  if(int(g)==o):\n",
        "    exact_cnt += 1\n",
        "\n",
        "print(exact_cnt)\n",
        "avg_apx = (1/10)*np.sum(np.divide(sa_soln,opt_soln))\n",
        "print_(\"Average approximation: \" + str(avg_apx), out_path)\n",
        "avg_time = sum(times)/len(times)\n",
        "print_(\"Average time: \" + str(avg_time) + \"seconds\", out_path)"
      ],
      "execution_count": null,
      "outputs": [
        {
          "output_type": "stream",
          "text": [
            "Input 10 or 100 or 1000: 1000\n",
            "Target found!\n",
            "Target found!\n",
            "Target found!\n",
            "Target found!\n",
            "Target found!\n",
            "Target found!\n",
            "Target found!\n",
            "Target found!\n",
            "Target found!\n",
            "Target found!\n",
            "248299 248299 1.8949270248413086seconds\n",
            "250617 250617 1.8690907955169678seconds\n",
            "253109 253109 2.2035651206970215seconds\n",
            "240667 240667 1.9300580024719238seconds\n",
            "238479 238479 1.8236346244812012seconds\n",
            "247621 247621 1.8725321292877197seconds\n",
            "257666 257666 1.8383395671844482seconds\n",
            "239188 239188 2.0270144939422607seconds\n",
            "241480 241480 1.8182916641235352seconds\n",
            "240590 240590 2.101280927658081seconds\n",
            "10\n",
            "Average approximation: 1.0\n",
            "Average time: 1.9378734350204467seconds\n"
          ],
          "name": "stdout"
        }
      ]
    },
    {
      "cell_type": "code",
      "metadata": {
        "id": "W52hG4dkgs1L"
      },
      "source": [
        ""
      ],
      "execution_count": null,
      "outputs": []
    }
  ]
}